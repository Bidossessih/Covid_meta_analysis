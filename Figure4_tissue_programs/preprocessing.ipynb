{
 "cells": [
  {
   "cell_type": "code",
   "execution_count": 5,
   "metadata": {},
   "outputs": [],
   "source": [
    "import scanpy as sc\n",
    "import pandas as pd\n",
    "import numpy as np"
   ]
  },
  {
   "cell_type": "code",
   "execution_count": 2,
   "metadata": {},
   "outputs": [],
   "source": [
    "gut_adata = sc.read_mtx('gut/gut_matrix.mtx')\n",
    "gene_names = pd.read_csv('gut/gut_genenames.csv' , header=None).values\n",
    "cell_names = pd.read_csv('gut/gut_cellnames.csv' , header=None).values\n",
    "healthy_list = pd.read_csv('gut/gut_healthycells.csv'  ,sep = ',')['x'].values\n",
    "ident_list = pd.read_csv('gut/ident.csv'  ,sep = ',')['x'].values\n",
    "\n",
    "\n",
    "\n",
    "gut_adata = gut_adata.T \n",
    "gut_adata.obs['Cell Type'] = ident_list\n",
    "\n",
    "gut_adata.obs_names = np.ndarray.flatten(cell_names)\n",
    "gut_adata.var_names =  np.ndarray.flatten(gene_names)\n",
    "gut_adata[healthy_list].write('gut/gut_adata.h5ad')\n"
   ]
  },
  {
   "cell_type": "code",
   "execution_count": 6,
   "metadata": {},
   "outputs": [],
   "source": [
    "adata= sc.read(('gut/gut_adata.h5ad'))\n"
   ]
  },
  {
   "cell_type": "code",
   "execution_count": 18,
   "metadata": {},
   "outputs": [],
   "source": [
    "nasal_adata = sc.read_mtx('nasal/nasal_matrix.mtx')\n",
    "gene_names = pd.read_csv('nasal/nasal_genenames.csv' , header=None).values\n",
    "cell_names = pd.read_csv('nasal/nasal_cellnames.csv' , header=None).values\n",
    "nasal_adata = nasal_adata.T \n",
    "\n",
    "nasal_adata.obs_names = np.ndarray.flatten(cell_names)\n",
    "nasal_adata.var_names =  np.ndarray.flatten(gene_names)\n",
    "\n",
    "\n",
    "ident_list = pd.read_csv('nasal/ident.csv'  ,sep = ',')['x'].values\n",
    "nasal_adata.obs['Cell Type'] = ident_list\n",
    "nasal_adata.write('nasal/nasal_adata.h5ad')\n",
    "\n"
   ]
  },
  {
   "cell_type": "code",
   "execution_count": null,
   "metadata": {},
   "outputs": [],
   "source": []
  }
 ],
 "metadata": {
  "kernelspec": {
   "display_name": "Python [conda env:st]",
   "language": "python",
   "name": "conda-env-st-py"
  },
  "language_info": {
   "codemirror_mode": {
    "name": "ipython",
    "version": 3
   },
   "file_extension": ".py",
   "mimetype": "text/x-python",
   "name": "python",
   "nbconvert_exporter": "python",
   "pygments_lexer": "ipython3",
   "version": "3.7.3"
  }
 },
 "nbformat": 4,
 "nbformat_minor": 2
}
